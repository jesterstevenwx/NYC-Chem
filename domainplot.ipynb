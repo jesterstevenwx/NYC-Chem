{
 "cells": [
  {
   "cell_type": "code",
   "execution_count": null,
   "metadata": {},
   "outputs": [],
   "source": [
    "import os\n",
    "from wrf import getvar, ALL_TIMES, extract_vars, omp_set_num_threads, omp_get_num_procs, to_np, smooth2d, interplevel, latlon_coords, get_cartopy, cartopy_xlim, cartopy_ylim\n",
    "from netCDF4 import Dataset #type: ignore\n",
    "import numpy as np\n",
    "import cartopy.crs as crs\n",
    "import matplotlib.pyplot as plt\n",
    "from cartopy.feature import NaturalEarthFeature\n",
    "import cartopy.feature as cfeature\n",
    "from matplotlib.cm import get_cmap"
   ]
  },
  {
   "cell_type": "code",
   "execution_count": null,
   "metadata": {},
   "outputs": [],
   "source": [
    "wrffile = '/scratch/07655/tg869546/nyc-chem/wrf/2023-expand/wrfout_d02_2023-07-21_00:00:00'\n",
    "wrf_ds = Dataset(wrffile)\n",
    "\n",
    "z = getvar(wrf_ds, 'z', units='m')\n",
    "lats, lons = latlon_coords(z)\n",
    "cart_proj = get_cartopy(z)"
   ]
  },
  {
   "cell_type": "code",
   "execution_count": null,
   "metadata": {},
   "outputs": [],
   "source": [
    "min_lon = -75.7\n",
    "max_lon = -72.1\n",
    "min_lat = 39.2\n",
    "max_lat = 42.0\n",
    "\n",
    "x = [min_lon, max_lon, max_lon, min_lon, min_lon]\n",
    "y = [min_lat, min_lat, max_lat, max_lat, min_lat]"
   ]
  },
  {
   "cell_type": "code",
   "execution_count": null,
   "metadata": {},
   "outputs": [],
   "source": [
    "golden = (1. + np.sqrt(5.))/2.\n",
    "figsize = (12., 12./golden)\n",
    "fig, ax = plt.subplots(1,1, subplot_kw={'projection': cart_proj},figsize=figsize)\n",
    "states = cfeature.STATES\n",
    "ax.add_feature(states, linewidth=0.5, edgecolor='black')\n",
    "\n",
    "ax.plot(x, y, color='red', transform=crs.PlateCarree())\n",
    "\n",
    "plt.show()"
   ]
  }
 ],
 "metadata": {
  "kernelspec": {
   "display_name": "wrf",
   "language": "python",
   "name": "python3"
  },
  "language_info": {
   "name": "python",
   "version": "3.11.9"
  }
 },
 "nbformat": 4,
 "nbformat_minor": 2
}

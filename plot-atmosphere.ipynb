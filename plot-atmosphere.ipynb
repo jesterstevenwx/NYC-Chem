{
 "cells": [
  {
   "cell_type": "markdown",
   "metadata": {},
   "source": [
    "# **Atmosphere Sanity Check**"
   ]
  },
  {
   "cell_type": "markdown",
   "metadata": {},
   "source": [
    "## *Imports*\n",
    "\n",
    "Need to import wrf-python, cartopy, and netcdf in order to properly plot pressure, winds."
   ]
  },
  {
   "cell_type": "code",
   "execution_count": 1,
   "metadata": {},
   "outputs": [],
   "source": [
    "import wrf\n",
    "from netCDF4 import Dataset #type: ignore\n",
    "import numpy as np\n",
    "import cartopy.crs as crs\n",
    "import matplotlib.pyplot as plt\n",
    "from cartopy.feature import NaturalEarthFeature\n",
    "from matplotlib.cm import get_cmap"
   ]
  },
  {
   "cell_type": "code",
   "execution_count": null,
   "metadata": {},
   "outputs": [],
   "source": [
    "wrffile = Dataset('2023/wrfout/wrfout_d01_2023-07-21_18:00:00')\n",
    "\n",
    "z = wrf.getvar(wrffile, 'z', units='m')\n",
    "p = wrf.getvar(wrffile, 'pressure')\n",
    "ua = wrf.getvar(wrffile, 'ua', units='kt')\n",
    "va = wrf.getvar(wrffile, 'va', units='kt')\n",
    "t2 = wrf.getvar(wrffile, 'T2') - 273.15 # K -> deg C\n"
   ]
  },
  {
   "cell_type": "code",
   "execution_count": null,
   "metadata": {},
   "outputs": [],
   "source": [
    "u_10 = wrf.interplevel(ua, z, 10)\n",
    "v_10 = wrf.interplevel(va, z, 10)\n",
    "p_10 = wrf.interplevel(p, z, 10)"
   ]
  },
  {
   "cell_type": "code",
   "execution_count": null,
   "metadata": {},
   "outputs": [],
   "source": [
    "lats, lons = wrf.latlon_coords(p_10)\n",
    "cart_proj = wrf.get_cartopy(p_10)"
   ]
  },
  {
   "cell_type": "code",
   "execution_count": null,
   "metadata": {},
   "outputs": [],
   "source": [
    "fig, ax = plt.subplots(1,1, projection=cart_proj)\n",
    "\n",
    "states = NaturalEarthFeature(category='cultural',scale='50m',facecolor='none',name='admin_1_states_provinces_shp')\n",
    "ax.add_feature(states, linewidth=0.5, edgecolor='black')\n",
    "ax.coastlines('50m', linewidth=0.5)\n"
   ]
  },
  {
   "cell_type": "code",
   "execution_count": null,
   "metadata": {},
   "outputs": [],
   "source": [
    "levels = np.arange(1004., 1024., 4.)\n",
    "contours = plt.contour(wrf.to_np(lons), wrf.to_np(lats), wrf.to_np(p_10), levels=levels, colors='black')\n",
    "\n",
    "t_levels = np.arange(16., 42., 4.)\n",
    "t_contours = plt.contourf(wrf.to_np(lons), wrf.to_np(lats), wrf.to_np(t2), levels=t_levels, cmap=get_cmap('rainbow'))\n",
    "plt.colorbar(t_contours, ax=ax, orientation='horizontal', pad=0.05)\n",
    "\n",
    "plt.barbs(wrf.to_np(lons[::125, ::125]), wrf.to_np(lats[::125, ::125]), wrf.to_np(u_10[::125, ::125]), wrf.to_np(v_10[::125, ::125]), length=6)"
   ]
  },
  {
   "cell_type": "code",
   "execution_count": null,
   "metadata": {},
   "outputs": [],
   "source": [
    "ax.set_xlim(wrf.cartopy_xlim(p_10))\n",
    "ax.set_ylim(wrf.cartopy_ylim(p_10))\n",
    "\n",
    "ax.gridlines()\n",
    "\n",
    "plt.title('Surface Analysis: Pressure (hPa, black contours), Temperature (color fill), Wind (barbs, kt)')\n",
    "plt.savefig('sfc-2023-07-21_18z.png')\n",
    "plt.show()"
   ]
  }
 ],
 "metadata": {
  "kernelspec": {
   "display_name": "wrf",
   "language": "python",
   "name": "python3"
  },
  "language_info": {
   "codemirror_mode": {
    "name": "ipython",
    "version": 3
   },
   "file_extension": ".py",
   "mimetype": "text/x-python",
   "name": "python",
   "nbconvert_exporter": "python",
   "pygments_lexer": "ipython3",
   "version": "3.11.9"
  }
 },
 "nbformat": 4,
 "nbformat_minor": 2
}

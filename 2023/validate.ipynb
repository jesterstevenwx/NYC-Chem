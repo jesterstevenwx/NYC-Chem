{
 "cells": [
  {
   "cell_type": "markdown",
   "metadata": {},
   "source": [
    "# **Validation Suite**"
   ]
  },
  {
   "cell_type": "markdown",
   "metadata": {},
   "source": [
    "## Purpose and Setup\n",
    "This notebook will allow you to test the output from WRF-GHG against surface, upper air, and satelite observations.\n",
    "\n",
    "The next cell imports modules needed to work properly"
   ]
  },
  {
   "cell_type": "code",
   "execution_count": null,
   "metadata": {},
   "outputs": [],
   "source": [
    "import wrf\n",
    "import numpy as np\n",
    "import pandas as pd\n",
    "from datetime import datetime as dt\n",
    "from netCDF4 import Dataset #type: ignore\n",
    "from termcolor import cprint\n",
    "from numpy import unravel_index"
   ]
  },
  {
   "cell_type": "markdown",
   "metadata": {},
   "source": [
    "## *Base class*\n",
    "\n",
    "This class is used for all the following classes in order to give some basic location data to each class."
   ]
  },
  {
   "cell_type": "code",
   "execution_count": null,
   "metadata": {},
   "outputs": [],
   "source": [
    "class Base_point:\n",
    "    '''\n",
    "    Base_point: parent class for validation. Sets location name.\n",
    "    '''\n",
    "    def __init__(self: object, loc: str, **kwargs) -> None:\n",
    "        self.loc = loc"
   ]
  },
  {
   "cell_type": "markdown",
   "metadata": {},
   "source": [
    "## *Upper air (UA) class*\n",
    "\n",
    "This class is used to set the attributes for any data objects that cares about upper air data. This is usually the WRF data that you're testing or the radiosonde data you use for validation. It inherits from the base class."
   ]
  },
  {
   "cell_type": "code",
   "execution_count": null,
   "metadata": {},
   "outputs": [],
   "source": [
    "class UA_point(Base_point):\n",
    "    def __init__(self: object, loc: str, **kwargs) -> None:\n",
    "        super().__init__(loc, **kwargs)\n",
    "    def __eq__(self: object, other: object) -> bool:\n",
    "        try:\n",
    "            results = np.empty(5, bool)\n",
    "            results[0] = np.allclose(self.p, other.p, atol=10.)\n",
    "            results[1] = np.allclose(self.t, other.t, atol=1.)\n",
    "            results[2] = np.allclose(self.td, other.td, atol=1.)\n",
    "            results[3] = np.allclose(self.wdir, other.wdir, atol=5.)\n",
    "            results[4] = np.allclose(self.wspd, other.wspd, atol=1.)\n",
    "            result = results.all()\n",
    "        except AttributeError:\n",
    "            if isinstance(self, WRF_point):\n",
    "                result = other.__eq__(self)\n",
    "            else:\n",
    "                result = NotImplemented\n",
    "        finally:\n",
    "            return result"
   ]
  },
  {
   "cell_type": "markdown",
   "metadata": {},
   "source": [
    "## *Satelite (Sat) class*\n",
    "\n",
    "This class is used for the "
   ]
  }
 ],
 "metadata": {
  "kernelspec": {
   "display_name": "wrf",
   "language": "python",
   "name": "python3"
  },
  "language_info": {
   "name": "python",
   "version": "3.11.9"
  }
 },
 "nbformat": 4,
 "nbformat_minor": 2
}

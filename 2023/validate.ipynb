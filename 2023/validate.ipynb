{
 "cells": [
  {
   "cell_type": "markdown",
   "metadata": {},
   "source": [
    "# **Validation Suite**"
   ]
  },
  {
   "cell_type": "markdown",
   "metadata": {},
   "source": [
    "## Purpose and Setup\n",
    "This notebook will allow you to test the output from WRF-GHG against surface, upper air, and satelite observations.\n",
    "\n",
    "The next cell imports modules needed to work properly"
   ]
  },
  {
   "cell_type": "code",
   "execution_count": null,
   "metadata": {},
   "outputs": [],
   "source": [
    "import wrf\n",
    "import numpy as np\n",
    "import pandas as pd\n",
    "from datetime import datetime as dt\n",
    "from netCDF4 import Dataset #type: ignore\n",
    "from termcolor import cprint\n",
    "from numpy import unravel_index\n",
    "import collections.abc as c"
   ]
  },
  {
   "cell_type": "markdown",
   "metadata": {},
   "source": [
    "### *Base class*\n",
    "\n",
    "This class is used for all the following classes in order to give some basic location data to each class."
   ]
  },
  {
   "cell_type": "code",
   "execution_count": null,
   "metadata": {},
   "outputs": [],
   "source": [
    "class Base_point:\n",
    "    '''\n",
    "    Base_point: parent class for validation. Sets location name.\n",
    "    '''\n",
    "    def __init__(self: object, loc: str, **kwargs) -> None:\n",
    "        self.loc = loc"
   ]
  },
  {
   "cell_type": "markdown",
   "metadata": {},
   "source": [
    "### *Upper air (UA) class*\n",
    "\n",
    "This class is used to set the attributes for any data objects that cares about upper air data. This is usually the WRF data that you're testing or the radiosonde data you use for validation. It inherits from the base class."
   ]
  },
  {
   "cell_type": "code",
   "execution_count": null,
   "metadata": {},
   "outputs": [],
   "source": [
    "class UA_point(Base_point):\n",
    "    def __init__(self: object, loc: str, **kwargs) -> None:\n",
    "        super().__init__(loc, **kwargs)\n",
    "    def __eq__(self: object, other: object) -> bool:\n",
    "        try:\n",
    "            results: np.ndarray[bool] = np.empty(5, bool)\n",
    "            results[0] = np.allclose(self.p, other.p, atol=10.)\n",
    "            results[1] = np.allclose(self.t, other.t, atol=1.)\n",
    "            results[2] = np.allclose(self.td, other.td, atol=1.)\n",
    "            results[3] = np.allclose(self.wdir, other.wdir, atol=5.)\n",
    "            results[4] = np.allclose(self.wspd, other.wspd, atol=1.)\n",
    "            result: bool = results.all()\n",
    "        except AttributeError:\n",
    "            if isinstance(self, WRF_point):\n",
    "                result: bool = other.__eq__(self)\n",
    "            else:\n",
    "                raise NotImplementedError('Compairison not implemented')\n",
    "        finally:\n",
    "            return result"
   ]
  },
  {
   "cell_type": "markdown",
   "metadata": {},
   "source": [
    "### *Satelite (Sat) class*\n",
    "\n",
    "This class is used to set the attributes for any data objects that cares about satelite data. This is usually the WRF data or TROPOMI or OCO-2 data. It inherits from the base class. **Note**: The respective classes for TROPOMI and OCO-2 are still in development (9-9-2024)"
   ]
  },
  {
   "cell_type": "code",
   "execution_count": null,
   "metadata": {},
   "outputs": [],
   "source": [
    "class Sat_point(Base_point):\n",
    "    def __init__(self: object, loc: str, **kwargs) -> None:\n",
    "        super().__init__(loc, **kwargs)\n",
    "    def sat_loc(self: object, ulat: float, ulon: float, lats: c.Iterable[float], lons: c.Iterable[float]) -> tuple[int] | int:\n",
    "        R = 6371000\n",
    "        lat1 = np.radians(ulat)\n",
    "        lat2 = np.radians(lats)\n",
    "        delta_lat = np.radians(lats-ulat)\n",
    "        delta_lon = np.radians(lons-ulon)\n",
    "        a = (np.sin(delta_lat/2))*(np.sin(delta_lat/2))+(np.cos(lat1))*(np.cos(lat2))*(np.sin(delta_lon/2))*(np.sin(delta_lon/2))\n",
    "        c = 2*np.arctan2(np.sqrt(a),np.sqrt(1-a))\n",
    "        d = R*c\n",
    "        if d.ndim == 1:\n",
    "            return d.argmin()\n",
    "        else:\n",
    "            x, y = unravel_index(d.argmin(),d.shape)\n",
    "            return x,y\n",
    "    def __eq__(self: object, other: object) -> bool:\n",
    "        result: bool | None = None\n",
    "        try:\n",
    "            if isinstance(self, Tropomi_point) or (isinstance(self, WRF_point) and isinstance(other, Tropomi_point)):\n",
    "                results: np.ndarray[bool] = np.empty(2, bool)\n",
    "                results[0] = np.abs(self.xch4 - other.xch4) <= 1.e-1\n",
    "                results[1] = np.abs(self.xco - other.xco) <= 1.e-1\n",
    "                result = results.all()\n",
    "            #! elif for OCO-2 here\n",
    "        except AttributeError:\n",
    "            if isinstance(self, WRF_point):\n",
    "                result = other.__eq__(self)\n",
    "            else:\n",
    "                result = NotImplemented\n",
    "        else:\n",
    "            if result is None:\n",
    "                if isinstance(self,WRF_point):\n",
    "                    result = other.__eq__(self)\n",
    "                else:\n",
    "                    raise NotImplementedError('Compairison not implemented')\n",
    "            else:\n",
    "                pass\n",
    "        finally:\n",
    "            return result"
   ]
  },
  {
   "cell_type": "markdown",
   "metadata": {},
   "source": [
    "### *Surface class*\n",
    "\n",
    "This class is used to set the attirbutes for any data object that cares about surface data. This is usually the WRF data or the ASOS observation data. It inherits from the base class."
   ]
  },
  {
   "cell_type": "code",
   "execution_count": null,
   "metadata": {},
   "outputs": [],
   "source": [
    "class Surface_point(Base_point):\n",
    "    def __init__(self, loc, **kwargs):\n",
    "        super().__init__(loc, **kwargs)\n",
    "    def __eq__(self, other: object) -> bool:\n",
    "        try:\n",
    "            results = np.empty(5, bool)\n",
    "            results[0] = abs(self.T2 - other.T2) <= 0.5\n",
    "            results[1] = abs(self.td2 - other.td2) <= 0.5\n",
    "            results[2] = abs(self.slp - other.p) <= 3.0\n",
    "            results[3] = abs(self.wspd10 - other.wspd10) <= 0.2\n",
    "            results[4] = abs(self.wdir10 - other.wdir10) <= 5\n",
    "            result = results.all()\n",
    "        except AttributeError:\n",
    "            if isinstance(self, WRF_point):\n",
    "                result = other.__eq__(self)\n",
    "            else:\n",
    "                result = NotImplemented\n",
    "        finally:\n",
    "            return result"
   ]
  }
 ],
 "metadata": {
  "kernelspec": {
   "display_name": "wrf",
   "language": "python",
   "name": "python3"
  },
  "language_info": {
   "name": "python",
   "version": "3.11.9"
  }
 },
 "nbformat": 4,
 "nbformat_minor": 2
}
